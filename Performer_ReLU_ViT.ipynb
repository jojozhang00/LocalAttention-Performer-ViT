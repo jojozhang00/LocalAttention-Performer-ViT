{
  "nbformat": 4,
  "nbformat_minor": 0,
  "metadata": {
    "colab": {
      "provenance": []
    },
    "kernelspec": {
      "name": "python3",
      "display_name": "Python 3"
    },
    "language_info": {
      "name": "python"
    }
  },
  "cells": [
    {
      "cell_type": "code",
      "source": [
        "import torch\n",
        "import torch.nn as nn\n",
        "import torch.nn.functional as F\n",
        "from torch.optim import Adam\n",
        "from torch.utils.data import DataLoader\n",
        "from torchvision.datasets import MNIST\n",
        "from torchvision.transforms import ToTensor\n",
        "from torch.optim import Adam\n",
        "from torch.nn import CrossEntropyLoss\n",
        "from tqdm import tqdm\n",
        "import math\n",
        "import time"
      ],
      "metadata": {
        "id": "sZKhK_Lsd2lq"
      },
      "execution_count": null,
      "outputs": []
    },
    {
      "cell_type": "code",
      "source": [
        "torch.manual_seed(0)\n",
        "torch.cuda.manual_seed(0)"
      ],
      "metadata": {
        "id": "9mFo-twkhiNK"
      },
      "execution_count": null,
      "outputs": []
    },
    {
      "cell_type": "code",
      "source": [
        "def positional_encoding(positions, d_model):\n",
        "\n",
        "    angle_rads = torch.arange(positions, dtype=torch.float32).unsqueeze(1) * torch.pow(10000, -torch.arange(0, d_model, 2, dtype=torch.float32).float() / d_model)\n",
        "    sines = torch.sin(angle_rads)\n",
        "    cosines = torch.cos(angle_rads)\n",
        "\n",
        "    pos_encoding = torch.zeros((positions, d_model), dtype=torch.float32)\n",
        "    pos_encoding[:, 0::2] = sines\n",
        "    pos_encoding[:, 1::2] = cosines\n",
        "\n",
        "    return pos_encoding.unsqueeze(0)"
      ],
      "metadata": {
        "id": "OCFhcBSld77w"
      },
      "execution_count": null,
      "outputs": []
    },
    {
      "cell_type": "code",
      "execution_count": null,
      "metadata": {
        "id": "n4eXH8J-dwAx"
      },
      "outputs": [],
      "source": [
        "def relu_feature_map(x):\n",
        "    return torch.nn.functional.relu(x)  # Using ReLU as the feature map\n",
        "\n",
        "class PerformerAttention(nn.Module):\n",
        "    def __init__(self, d_model, n_heads, causal=False):\n",
        "        super().__init__()\n",
        "        self.d_model = d_model\n",
        "        self.n_heads = n_heads\n",
        "        self.head_dim = d_model // n_heads\n",
        "        self.causal = causal\n",
        "\n",
        "        self.query = nn.Linear(d_model, d_model)\n",
        "        self.key = nn.Linear(d_model, d_model)\n",
        "        self.value = nn.Linear(d_model, d_model)\n",
        "\n",
        "    def forward(self, x):\n",
        "        B, N, _ = x.shape\n",
        "        Q = self.query(x).reshape(B, N, self.n_heads, self.head_dim)\n",
        "        K = self.key(x).reshape(B, N, self.n_heads, self.head_dim)\n",
        "        V = self.value(x).reshape(B, N, self.n_heads, self.head_dim)\n",
        "\n",
        "        Q = relu_feature_map(Q)  # Apply ReLU feature map to queries\n",
        "        K = relu_feature_map(K)  # Apply ReLU feature map to keys\n",
        "\n",
        "        # Compute attention using basic dot product (since we are not using random features)\n",
        "        D = torch.einsum('bhnd,bhmd->bhnm', Q, K)\n",
        "        attn = torch.softmax(D / math.sqrt(self.head_dim), dim=-1)\n",
        "\n",
        "        y = torch.einsum('bhnm,bhmd->bhnd', attn, V).reshape(B, N, -1)\n",
        "        return y\n",
        "\n",
        "class MyPerformerViT(nn.Module):\n",
        "    def __init__(self, input_shape, n_patches, n_blocks, hidden_d, n_heads, out_d):\n",
        "        super().__init__()\n",
        "        self.patch_size = (input_shape[1] // n_patches, input_shape[2] // n_patches)\n",
        "        self.d_model = hidden_d\n",
        "        num_pixels_per_patch = self.patch_size[0] * self.patch_size[1] * input_shape[0]\n",
        "        self.embedding = nn.Linear(num_pixels_per_patch, self.d_model)\n",
        "        self.position_embedding = positional_encoding(n_patches * n_patches, self.d_model)\n",
        "        self.blocks = nn.ModuleList([\n",
        "            PerformerAttention(self.d_model, n_heads) for _ in range(n_blocks)\n",
        "        ])\n",
        "        self.to_cls_token = nn.Identity()\n",
        "        self.classifier = nn.Linear(self.d_model, out_d)\n",
        "\n",
        "    def forward(self, x):\n",
        "        B, C, H, W = x.shape\n",
        "        # Unfold the image into patches\n",
        "        x = x.unfold(2, self.patch_size[0], self.patch_size[0]).unfold(3, self.patch_size[1], self.patch_size[1])\n",
        "        # Flatten the patches\n",
        "        x = x.contiguous().view(B, -1, self.patch_size[0] * self.patch_size[1] * C)\n",
        "        x = self.embedding(x)\n",
        "        x += self.position_embedding.to(x.device)  # Add absolute position embedding\n",
        "        x = self.to_cls_token(x)\n",
        "        # Apply attention blocks\n",
        "        for block in self.blocks:\n",
        "            x = block(x)\n",
        "        x = x.mean(dim=1)\n",
        "        return self.classifier(x)"
      ]
    },
    {
      "cell_type": "code",
      "source": [
        "def main():\n",
        "  # Load data\n",
        "  transform = ToTensor()\n",
        "\n",
        "  train_set = MNIST(root='./../datasets', train=True, download=True, transform=transform)\n",
        "  test_set = MNIST(root='./../datasets', train=False, download=True, transform=transform)\n",
        "\n",
        "  train_loader = DataLoader(train_set, shuffle=True, batch_size=128)\n",
        "  test_loader = DataLoader(test_set, shuffle=False, batch_size=32)\n",
        "\n",
        "  # Define model and training options\n",
        "  device=torch.device(\"cuda\" if torch.cuda.is_available() else \"cpu\")\n",
        "  print(\"Using device: \", device, f\"{torch.cuda.get_device_name(device)}\" if torch.cuda.is_available() else \"\")\n",
        "  model = MyPerformerViT((1, 28, 28), n_patches=7, n_blocks=2, hidden_d=8, n_heads=2, out_d=10)\n",
        "  model = model.to(device)\n",
        "  N_EPOCHS=10\n",
        "  LR=0.02\n",
        "\n",
        "  # Training loop\n",
        "  optimizer = Adam(model.parameters(), lr=LR)\n",
        "  criterion = CrossEntropyLoss()\n",
        "\n",
        "  train_start_time = time.time()\n",
        "  for epoch in tqdm(range(N_EPOCHS)):\n",
        "    train_loss = 0.0\n",
        "    for x, y in train_loader:\n",
        "      x, y = x.to(device), y.to(device)\n",
        "      y_hat = model(x)\n",
        "      loss = criterion(y_hat, y)\n",
        "\n",
        "      train_loss += loss.detach().cpu().item() / len(train_loader)\n",
        "\n",
        "      optimizer.zero_grad()\n",
        "      loss.backward()\n",
        "      optimizer.step()\n",
        "\n",
        "    print(f\"Epoch {epoch+1}/{N_EPOCHS} | loss: {train_loss:.2f}\")\n",
        "\n",
        "  epoch_duration = time.time() - train_start_time\n",
        "  print(f\"Training time is: {epoch_duration:.2f} sec\")\n",
        "\n",
        "  # Testing loop\n",
        "  test_start_time = time.time()\n",
        "  with torch.no_grad():\n",
        "    correct, total = 0, 0\n",
        "    test_loss = 0.0\n",
        "    for x, y in tqdm(test_loader, desc=\"Testing\"):\n",
        "      x, y = x.to(device), y.to(device)\n",
        "      y_hat = model(x)\n",
        "      loss = criterion(y_hat, y)\n",
        "      test_loss += loss.detach().cpu().item() / len(test_loader)\n",
        "\n",
        "      correct += torch.sum(torch.argmax(y_hat, dim=1)==y).detach().cpu().item()\n",
        "      total += len(x)\n",
        "\n",
        "    print(f\"Test loss: {test_loss:2f}\")\n",
        "    print(f\"Test accuracy: {correct/total*100:.2f}%\")\n",
        "\n",
        "  epoch_duration = time.time() - test_start_time\n",
        "  print(f\"Test time is: {epoch_duration:.2f} sec\")"
      ],
      "metadata": {
        "id": "-354oQkeDrqP"
      },
      "execution_count": null,
      "outputs": []
    },
    {
      "cell_type": "code",
      "source": [
        "if __name__ == \"__main__\":\n",
        "    main()"
      ],
      "metadata": {
        "colab": {
          "base_uri": "https://localhost:8080/"
        },
        "id": "RPys9pmueQ43",
        "outputId": "5845c3e2-a077-4d8d-dc2b-ab9032d21ce1"
      },
      "execution_count": null,
      "outputs": [
        {
          "output_type": "stream",
          "name": "stdout",
          "text": [
            "Using device:  cpu \n"
          ]
        },
        {
          "output_type": "stream",
          "name": "stderr",
          "text": [
            " 10%|█         | 1/10 [00:16<02:26, 16.31s/it]"
          ]
        },
        {
          "output_type": "stream",
          "name": "stdout",
          "text": [
            "Epoch 1/10 | loss: 1.73\n"
          ]
        },
        {
          "output_type": "stream",
          "name": "stderr",
          "text": [
            "\r 20%|██        | 2/10 [00:32<02:07, 15.96s/it]"
          ]
        },
        {
          "output_type": "stream",
          "name": "stdout",
          "text": [
            "Epoch 2/10 | loss: 1.07\n"
          ]
        },
        {
          "output_type": "stream",
          "name": "stderr",
          "text": [
            "\r 30%|███       | 3/10 [00:47<01:50, 15.83s/it]"
          ]
        },
        {
          "output_type": "stream",
          "name": "stdout",
          "text": [
            "Epoch 3/10 | loss: 0.87\n"
          ]
        },
        {
          "output_type": "stream",
          "name": "stderr",
          "text": [
            "\r 40%|████      | 4/10 [01:03<01:35, 15.84s/it]"
          ]
        },
        {
          "output_type": "stream",
          "name": "stdout",
          "text": [
            "Epoch 4/10 | loss: 0.78\n"
          ]
        },
        {
          "output_type": "stream",
          "name": "stderr",
          "text": [
            "\r 50%|█████     | 5/10 [01:19<01:19, 15.94s/it]"
          ]
        },
        {
          "output_type": "stream",
          "name": "stdout",
          "text": [
            "Epoch 5/10 | loss: 0.71\n"
          ]
        },
        {
          "output_type": "stream",
          "name": "stderr",
          "text": [
            "\r 60%|██████    | 6/10 [01:35<01:03, 15.88s/it]"
          ]
        },
        {
          "output_type": "stream",
          "name": "stdout",
          "text": [
            "Epoch 6/10 | loss: 0.68\n"
          ]
        },
        {
          "output_type": "stream",
          "name": "stderr",
          "text": [
            "\r 70%|███████   | 7/10 [01:51<00:47, 15.89s/it]"
          ]
        },
        {
          "output_type": "stream",
          "name": "stdout",
          "text": [
            "Epoch 7/10 | loss: 0.65\n"
          ]
        },
        {
          "output_type": "stream",
          "name": "stderr",
          "text": [
            "\r 80%|████████  | 8/10 [02:07<00:32, 16.04s/it]"
          ]
        },
        {
          "output_type": "stream",
          "name": "stdout",
          "text": [
            "Epoch 8/10 | loss: 0.63\n"
          ]
        },
        {
          "output_type": "stream",
          "name": "stderr",
          "text": [
            "\r 90%|█████████ | 9/10 [02:23<00:15, 15.88s/it]"
          ]
        },
        {
          "output_type": "stream",
          "name": "stdout",
          "text": [
            "Epoch 9/10 | loss: 0.62\n"
          ]
        },
        {
          "output_type": "stream",
          "name": "stderr",
          "text": [
            "100%|██████████| 10/10 [02:38<00:00, 15.87s/it]\n"
          ]
        },
        {
          "output_type": "stream",
          "name": "stdout",
          "text": [
            "Epoch 10/10 | loss: 0.58\n",
            "Training time is: 158.73 sec\n"
          ]
        },
        {
          "output_type": "stream",
          "name": "stderr",
          "text": [
            "Testing: 100%|██████████| 313/313 [00:02<00:00, 143.53it/s]"
          ]
        },
        {
          "output_type": "stream",
          "name": "stdout",
          "text": [
            "Test loss: 0.578677\n",
            "Test accuracy: 81.32%\n",
            "Test time is: 2.19 sec\n"
          ]
        },
        {
          "output_type": "stream",
          "name": "stderr",
          "text": [
            "\n"
          ]
        }
      ]
    },
    {
      "cell_type": "code",
      "source": [],
      "metadata": {
        "id": "jITrkD6LeTWo"
      },
      "execution_count": null,
      "outputs": []
    }
  ]
}