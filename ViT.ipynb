{
  "nbformat": 4,
  "nbformat_minor": 0,
  "metadata": {
    "colab": {
      "provenance": []
    },
    "kernelspec": {
      "name": "python3",
      "display_name": "Python 3"
    },
    "language_info": {
      "name": "python"
    }
  },
  "cells": [
    {
      "cell_type": "code",
      "source": [
        "import torch\n",
        "import torch.nn as nn\n",
        "import torch.nn.functional as F\n",
        "from torch.optim import Adam\n",
        "from torch.utils.data import DataLoader\n",
        "from torchvision.datasets import MNIST\n",
        "from torchvision.transforms import ToTensor\n",
        "from torch.optim import Adam\n",
        "from torch.nn import CrossEntropyLoss\n",
        "from tqdm import tqdm\n",
        "import math\n",
        "import time"
      ],
      "metadata": {
        "id": "SZinB7n6rciU"
      },
      "execution_count": null,
      "outputs": []
    },
    {
      "cell_type": "code",
      "source": [
        "torch.manual_seed(0)\n",
        "torch.cuda.manual_seed(0)"
      ],
      "metadata": {
        "id": "p8XvUTX3k2V9"
      },
      "execution_count": null,
      "outputs": []
    },
    {
      "cell_type": "code",
      "source": [
        "def positional_encoding(positions, d_model):\n",
        "\n",
        "    angle_rads = torch.arange(positions, dtype=torch.float32).unsqueeze(1) * torch.pow(10000, -torch.arange(0, d_model, 2, dtype=torch.float32).float() / d_model)\n",
        "    sines = torch.sin(angle_rads)\n",
        "    cosines = torch.cos(angle_rads)\n",
        "\n",
        "    pos_encoding = torch.zeros((positions, d_model), dtype=torch.float32)\n",
        "    pos_encoding[:, 0::2] = sines\n",
        "    pos_encoding[:, 1::2] = cosines\n",
        "\n",
        "    return pos_encoding.unsqueeze(0)"
      ],
      "metadata": {
        "id": "2WzXB687rgzC"
      },
      "execution_count": null,
      "outputs": []
    },
    {
      "cell_type": "code",
      "source": [
        "class MultiHeadAttention(nn.Module):\n",
        "    def __init__(self, d_model, n_heads):\n",
        "        super().__init__()\n",
        "        self.d_model = d_model\n",
        "        self.n_heads = n_heads\n",
        "        self.head_dim = d_model // n_heads\n",
        "        assert self.d_model == self.head_dim * self.n_heads\n",
        "\n",
        "        self.query = nn.Linear(d_model, d_model)\n",
        "        self.key = nn.Linear(d_model, d_model)\n",
        "        self.value = nn.Linear(d_model, d_model)\n",
        "\n",
        "    def forward(self, x):\n",
        "        B, N, _ = x.shape\n",
        "        q = self.query(x).reshape(B, N, self.n_heads, self.head_dim).permute(0, 2, 1, 3)\n",
        "        k = self.key(x).reshape(B, N, self.n_heads, self.head_dim).permute(0, 2, 3, 1)\n",
        "        v = self.value(x).reshape(B, N, self.n_heads, self.head_dim).permute(0, 2, 1, 3)\n",
        "\n",
        "        attn = torch.matmul(q, k) * (self.head_dim ** -0.5)\n",
        "        attn = F.softmax(attn, dim=-1)\n",
        "        y = torch.matmul(attn, v)\n",
        "        y = y.permute(0, 2, 1, 3).reshape(B, N, -1)\n",
        "\n",
        "        return y"
      ],
      "metadata": {
        "id": "xkDGe0xgruXL"
      },
      "execution_count": null,
      "outputs": []
    },
    {
      "cell_type": "code",
      "execution_count": null,
      "metadata": {
        "id": "IB1BNbZVq3Y_"
      },
      "outputs": [],
      "source": [
        "class MyViT(nn.Module):\n",
        "    def __init__(self, input_shape, n_patches, n_blocks, hidden_d, n_heads, out_d):\n",
        "        super().__init__()\n",
        "        self.patch_size = (input_shape[1] // n_patches, input_shape[2] // n_patches)\n",
        "        self.d_model = hidden_d\n",
        "        num_pixels_per_patch = self.patch_size[0] * self.patch_size[1] * input_shape[0]\n",
        "        self.embedding = nn.Linear(num_pixels_per_patch, self.d_model)\n",
        "        self.position_embedding = positional_encoding(n_patches * n_patches, self.d_model)\n",
        "        self.blocks = nn.ModuleList([\n",
        "            MultiHeadAttention(self.d_model, n_heads) for _ in range(n_blocks)\n",
        "        ])\n",
        "        self.to_cls_token = nn.Identity()\n",
        "        self.classifier = nn.Linear(self.d_model, out_d)\n",
        "\n",
        "    def forward(self, x):\n",
        "        B, C, H, W = x.shape\n",
        "        x = x.unfold(2, self.patch_size[0], self.patch_size[0]).unfold(3, self.patch_size[1], self.patch_size[1])\n",
        "        x = x.contiguous().view(B, -1, self.patch_size[0] * self.patch_size[1] * C)\n",
        "        x = self.embedding(x)\n",
        "        x += self.position_embedding.to(x.device)  # Add absolute position embedding\n",
        "        x = self.to_cls_token(x)\n",
        "        for block in self.blocks:\n",
        "            x = block(x)\n",
        "        x = x.mean(dim=1)\n",
        "        return self.classifier(x)"
      ]
    },
    {
      "cell_type": "code",
      "source": [
        "def main():\n",
        "  # Load data\n",
        "  transform = ToTensor()\n",
        "\n",
        "  train_set = MNIST(root='./../datasets', train=True, download=True, transform=transform)\n",
        "  test_set = MNIST(root='./../datasets', train=False, download=True, transform=transform)\n",
        "\n",
        "  train_loader = DataLoader(train_set, shuffle=True, batch_size=128)\n",
        "  test_loader = DataLoader(test_set, shuffle=False, batch_size=32)\n",
        "\n",
        "  # Define model and training options\n",
        "  device=torch.device(\"cuda\" if torch.cuda.is_available() else \"cpu\")\n",
        "  print(\"Using device: \", device, f\"{torch.cuda.get_device_name(device)}\" if torch.cuda.is_available() else \"\")\n",
        "  model = MyViT((1, 28, 28), n_patches=7, n_blocks=2, hidden_d=8, n_heads=2, out_d=10)\n",
        "  model = model.to(device)\n",
        "  N_EPOCHS=10\n",
        "  LR=0.02\n",
        "\n",
        "  # Training loop\n",
        "  optimizer = Adam(model.parameters(), lr=LR)\n",
        "  criterion = CrossEntropyLoss()\n",
        "\n",
        "  train_start_time = time.time()\n",
        "  for epoch in tqdm(range(N_EPOCHS)):\n",
        "    train_loss = 0.0\n",
        "    for x, y in train_loader:\n",
        "      x, y = x.to(device), y.to(device)\n",
        "      y_hat = model(x)\n",
        "      loss = criterion(y_hat, y)\n",
        "\n",
        "      train_loss += loss.detach().cpu().item() / len(train_loader) # detach() not affect gradient\n",
        "\n",
        "      optimizer.zero_grad()\n",
        "      loss.backward()\n",
        "      optimizer.step()\n",
        "\n",
        "    print(f\"Epoch {epoch+1}/{N_EPOCHS} | loss: {train_loss:.2f}\")\n",
        "\n",
        "  epoch_duration = time.time() - train_start_time\n",
        "  print(f\"Training time is: {epoch_duration:.2f} sec\")\n",
        "\n",
        "  # Testing loop\n",
        "  test_start_time = time.time()\n",
        "  with torch.no_grad():\n",
        "    correct, total = 0, 0\n",
        "    test_loss = 0.0\n",
        "    for x, y in tqdm(test_loader, desc=\"Testing\"):\n",
        "      x, y = x.to(device), y.to(device)\n",
        "      y_hat = model(x)\n",
        "      loss = criterion(y_hat, y)\n",
        "      test_loss += loss.detach().cpu().item() / len(test_loader)\n",
        "\n",
        "      correct += torch.sum(torch.argmax(y_hat, dim=1)==y).detach().cpu().item()\n",
        "      total += len(x)\n",
        "\n",
        "    print(f\"Test loss: {test_loss:2f}\")\n",
        "    print(f\"Test accuracy: {correct/total*100:.2f}%\")\n",
        "\n",
        "  epoch_duration = time.time() - test_start_time\n",
        "  print(f\"Test time is: {epoch_duration:.2f} sec\")"
      ],
      "metadata": {
        "id": "X03EcKVUr093"
      },
      "execution_count": null,
      "outputs": []
    },
    {
      "cell_type": "code",
      "source": [
        "if __name__ == \"__main__\":\n",
        "    main()"
      ],
      "metadata": {
        "colab": {
          "base_uri": "https://localhost:8080/"
        },
        "id": "rxyuA0KMr5fX",
        "outputId": "1d51a8f4-ae04-4ace-9076-3090d8502ed6"
      },
      "execution_count": null,
      "outputs": [
        {
          "output_type": "stream",
          "name": "stdout",
          "text": [
            "Using device:  cpu \n"
          ]
        },
        {
          "output_type": "stream",
          "name": "stderr",
          "text": [
            " 10%|█         | 1/10 [00:20<03:08, 20.96s/it]"
          ]
        },
        {
          "output_type": "stream",
          "name": "stdout",
          "text": [
            "Epoch 1/10 | loss: 1.52\n"
          ]
        },
        {
          "output_type": "stream",
          "name": "stderr",
          "text": [
            "\r 20%|██        | 2/10 [00:42<02:50, 21.33s/it]"
          ]
        },
        {
          "output_type": "stream",
          "name": "stdout",
          "text": [
            "Epoch 2/10 | loss: 0.94\n"
          ]
        },
        {
          "output_type": "stream",
          "name": "stderr",
          "text": [
            "\r 30%|███       | 3/10 [01:04<02:30, 21.48s/it]"
          ]
        },
        {
          "output_type": "stream",
          "name": "stdout",
          "text": [
            "Epoch 3/10 | loss: 0.77\n"
          ]
        },
        {
          "output_type": "stream",
          "name": "stderr",
          "text": [
            "\r 40%|████      | 4/10 [01:25<02:08, 21.40s/it]"
          ]
        },
        {
          "output_type": "stream",
          "name": "stdout",
          "text": [
            "Epoch 4/10 | loss: 0.62\n"
          ]
        },
        {
          "output_type": "stream",
          "name": "stderr",
          "text": [
            "\r 50%|█████     | 5/10 [01:46<01:46, 21.33s/it]"
          ]
        },
        {
          "output_type": "stream",
          "name": "stdout",
          "text": [
            "Epoch 5/10 | loss: 0.51\n"
          ]
        },
        {
          "output_type": "stream",
          "name": "stderr",
          "text": [
            "\r 60%|██████    | 6/10 [02:07<01:25, 21.26s/it]"
          ]
        },
        {
          "output_type": "stream",
          "name": "stdout",
          "text": [
            "Epoch 6/10 | loss: 0.45\n"
          ]
        },
        {
          "output_type": "stream",
          "name": "stderr",
          "text": [
            "\r 70%|███████   | 7/10 [02:29<01:03, 21.31s/it]"
          ]
        },
        {
          "output_type": "stream",
          "name": "stdout",
          "text": [
            "Epoch 7/10 | loss: 0.42\n"
          ]
        },
        {
          "output_type": "stream",
          "name": "stderr",
          "text": [
            "\r 80%|████████  | 8/10 [02:51<00:42, 21.48s/it]"
          ]
        },
        {
          "output_type": "stream",
          "name": "stdout",
          "text": [
            "Epoch 8/10 | loss: 0.40\n"
          ]
        },
        {
          "output_type": "stream",
          "name": "stderr",
          "text": [
            "\r 90%|█████████ | 9/10 [03:12<00:21, 21.60s/it]"
          ]
        },
        {
          "output_type": "stream",
          "name": "stdout",
          "text": [
            "Epoch 9/10 | loss: 0.39\n"
          ]
        },
        {
          "output_type": "stream",
          "name": "stderr",
          "text": [
            "100%|██████████| 10/10 [03:34<00:00, 21.47s/it]\n"
          ]
        },
        {
          "output_type": "stream",
          "name": "stdout",
          "text": [
            "Epoch 10/10 | loss: 0.39\n",
            "Training time is: 214.76 sec\n"
          ]
        },
        {
          "output_type": "stream",
          "name": "stderr",
          "text": [
            "Testing: 100%|██████████| 313/313 [00:02<00:00, 112.72it/s]"
          ]
        },
        {
          "output_type": "stream",
          "name": "stdout",
          "text": [
            "Test loss: 0.420764\n",
            "Test accuracy: 85.93%\n",
            "Test time is: 2.79 sec\n"
          ]
        },
        {
          "output_type": "stream",
          "name": "stderr",
          "text": [
            "\n"
          ]
        }
      ]
    },
    {
      "cell_type": "code",
      "source": [],
      "metadata": {
        "id": "xZjCK2xLr8su"
      },
      "execution_count": null,
      "outputs": []
    }
  ]
}