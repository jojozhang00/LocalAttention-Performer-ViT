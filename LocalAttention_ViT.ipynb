{
  "nbformat": 4,
  "nbformat_minor": 0,
  "metadata": {
    "colab": {
      "provenance": []
    },
    "kernelspec": {
      "name": "python3",
      "display_name": "Python 3"
    },
    "language_info": {
      "name": "python"
    }
  },
  "cells": [
    {
      "cell_type": "code",
      "execution_count": null,
      "metadata": {
        "id": "Zt7xAkv8j3-G"
      },
      "outputs": [],
      "source": [
        "import torch\n",
        "import torch.nn as nn\n",
        "import torch.nn.functional as F\n",
        "from torch.optim import Adam\n",
        "from torch.utils.data import DataLoader\n",
        "from torchvision.datasets import MNIST\n",
        "from torchvision.transforms import ToTensor\n",
        "from torch.optim import Adam\n",
        "from torch.nn import CrossEntropyLoss\n",
        "from tqdm import tqdm\n",
        "import math\n",
        "import time"
      ]
    },
    {
      "cell_type": "code",
      "source": [
        "torch.manual_seed(0)\n",
        "torch.cuda.manual_seed(0)"
      ],
      "metadata": {
        "id": "6RLWgLIZkGoC"
      },
      "execution_count": null,
      "outputs": []
    },
    {
      "cell_type": "code",
      "source": [
        "def positional_encoding(positions, d_model):\n",
        "\n",
        "    angle_rads = torch.arange(positions, dtype=torch.float32).unsqueeze(1) * torch.pow(10000, -torch.arange(0, d_model, 2, dtype=torch.float32).float() / d_model)\n",
        "    sines = torch.sin(angle_rads)\n",
        "    cosines = torch.cos(angle_rads)\n",
        "\n",
        "    pos_encoding = torch.zeros((positions, d_model), dtype=torch.float32)\n",
        "    pos_encoding[:, 0::2] = sines\n",
        "    pos_encoding[:, 1::2] = cosines\n",
        "\n",
        "    return pos_encoding.unsqueeze(0)"
      ],
      "metadata": {
        "id": "TF1a8_MNkGqW"
      },
      "execution_count": null,
      "outputs": []
    },
    {
      "cell_type": "code",
      "source": [
        "class LocalMultiHeadAttention(nn.Module):\n",
        "    def __init__(self, d_model, n_heads, local_window_size=3):\n",
        "        super().__init__()\n",
        "        self.d_model = d_model\n",
        "        self.n_heads = n_heads\n",
        "        self.head_dim = d_model // n_heads\n",
        "        self.local_window_size = local_window_size  # Window size reflects receptive field\n",
        "\n",
        "        assert self.d_model == self.head_dim * self.n_heads\n",
        "\n",
        "        self.query = nn.Linear(d_model, d_model)\n",
        "        self.key = nn.Linear(d_model, d_model)\n",
        "        self.value = nn.Linear(d_model, d_model)\n",
        "\n",
        "    def forward(self, x):\n",
        "        B, N, _ = x.shape\n",
        "        H = self.n_heads\n",
        "        W = self.local_window_size\n",
        "\n",
        "        # Generating queries, keys, values\n",
        "        q = self.query(x).reshape(B, N, H, self.head_dim).permute(0, 2, 1, 3)\n",
        "        k = self.key(x).reshape(B, N, H, self.head_dim).permute(0, 2, 1, 3)\n",
        "        v = self.value(x).reshape(B, N, H, self.head_dim).permute(0, 2, 1, 3)\n",
        "\n",
        "        # Initialize attention scores to very negative values\n",
        "        attn = torch.full((B, H, N, N), fill_value=float('-inf'), device=x.device, dtype=q.dtype)\n",
        "        for i in range(N):\n",
        "            # Calculate local indices to consider\n",
        "            local_indices = torch.arange(max(0, i - W + 1), min(N, i + W), device=x.device)\n",
        "            q_local = q[:, :, i, :].unsqueeze(2)\n",
        "            k_local = k[:, :, local_indices, :]\n",
        "            v_local = v[:, :, local_indices, :]\n",
        "\n",
        "            # Calculate attention scores\n",
        "            local_attn_scores = torch.matmul(q_local, k_local.transpose(-2, -1))\n",
        "            local_attn_scores /= self.head_dim ** 0.5\n",
        "            attn[:, :, i, local_indices] = local_attn_scores.squeeze(2)\n",
        "\n",
        "        # Apply softmax to normalize attention scores\n",
        "        attn = attn.softmax(dim=-1)\n",
        "        y = torch.matmul(attn, v)\n",
        "\n",
        "        # Reassemble output\n",
        "        y = y.permute(0, 2, 1, 3).reshape(B, N, -1)\n",
        "        return y"
      ],
      "metadata": {
        "id": "YyBNpdZ2kGsv"
      },
      "execution_count": null,
      "outputs": []
    },
    {
      "cell_type": "code",
      "source": [
        "class MyViT(nn.Module):\n",
        "    def __init__(self, input_shape, n_patches, n_blocks, hidden_d, n_heads, out_d, local_window_size=3):\n",
        "        super().__init__()\n",
        "        self.patch_size = (input_shape[1] // n_patches, input_shape[2] // n_patches)\n",
        "        self.d_model = hidden_d\n",
        "        num_pixels_per_patch = self.patch_size[0] * self.patch_size[1] * input_shape[0]\n",
        "        self.embedding = nn.Linear(num_pixels_per_patch, self.d_model)\n",
        "        self.position_embedding = positional_encoding(n_patches * n_patches, self.d_model)\n",
        "        self.blocks = nn.ModuleList([\n",
        "            LocalMultiHeadAttention(self.d_model, n_heads, local_window_size) for _ in range(n_blocks)\n",
        "        ])\n",
        "        self.to_cls_token = nn.Identity()\n",
        "        self.classifier = nn.Linear(self.d_model, out_d)\n",
        "\n",
        "    def forward(self, x):\n",
        "        B, C, H, W = x.shape\n",
        "        # Unfold the image into patches\n",
        "        x = x.unfold(2, self.patch_size[0], self.patch_size[0]).unfold(3, self.patch_size[1], self.patch_size[1])\n",
        "        # Flatten the patches\n",
        "        x = x.contiguous().view(B, -1, self.patch_size[0] * self.patch_size[1] * C)\n",
        "        x = self.embedding(x)\n",
        "        x += self.position_embedding.to(x.device)\n",
        "        x = self.to_cls_token(x)\n",
        "        # Apply attention blocks\n",
        "        for block in self.blocks:\n",
        "            x = block(x)\n",
        "        x = x.mean(dim=1)\n",
        "        return self.classifier(x)"
      ],
      "metadata": {
        "id": "AxZdPzatkMZF"
      },
      "execution_count": null,
      "outputs": []
    },
    {
      "cell_type": "code",
      "source": [
        "def main():\n",
        "  # Load data\n",
        "  transform = ToTensor()\n",
        "\n",
        "  train_set = MNIST(root='./../datasets', train=True, download=True, transform=transform)\n",
        "  test_set = MNIST(root='./../datasets', train=False, download=True, transform=transform)\n",
        "\n",
        "  train_loader = DataLoader(train_set, shuffle=True, batch_size=128)\n",
        "  test_loader = DataLoader(test_set, shuffle=False, batch_size=32)\n",
        "\n",
        "  # Define model and training options\n",
        "  device=torch.device(\"cuda\" if torch.cuda.is_available() else \"cpu\")\n",
        "  print(\"Using device: \", device, f\"{torch.cuda.get_device_name(device)}\" if torch.cuda.is_available() else \"\")\n",
        "  model = MyViT((1, 28, 28), n_patches=7, n_blocks=2, hidden_d=8, n_heads=2, out_d=10, local_window_size=7)\n",
        "  model = model.to(device)\n",
        "  N_EPOCHS=10\n",
        "  LR=0.02\n",
        "\n",
        "  # Training loop\n",
        "  optimizer = Adam(model.parameters(), lr=LR)\n",
        "  criterion = CrossEntropyLoss()\n",
        "\n",
        "  train_start_time = time.time()\n",
        "  for epoch in tqdm(range(N_EPOCHS)):\n",
        "    train_loss = 0.0\n",
        "    for x, y in train_loader:\n",
        "      x, y = x.to(device), y.to(device)\n",
        "      y_hat = model(x)\n",
        "      loss = criterion(y_hat, y)\n",
        "\n",
        "      train_loss += loss.detach().cpu().item() / len(train_loader)\n",
        "\n",
        "      optimizer.zero_grad()\n",
        "      loss.backward()\n",
        "      optimizer.step()\n",
        "\n",
        "    print(f\"Epoch {epoch+1}/{N_EPOCHS} | loss: {train_loss:.2f}\")\n",
        "\n",
        "  epoch_duration = time.time() - train_start_time\n",
        "  print(f\"Training time is: {epoch_duration:.2f} sec\")\n",
        "\n",
        "  # Testing loop\n",
        "  test_start_time = time.time()\n",
        "  with torch.no_grad():\n",
        "    correct, total = 0, 0\n",
        "    test_loss = 0.0\n",
        "    for x, y in tqdm(test_loader, desc=\"Testing\"):\n",
        "      x, y = x.to(device), y.to(device)\n",
        "      y_hat = model(x)\n",
        "      loss = criterion(y_hat, y)\n",
        "      test_loss += loss.detach().cpu().item() / len(test_loader)\n",
        "\n",
        "      correct += torch.sum(torch.argmax(y_hat, dim=1)==y).detach().cpu().item()\n",
        "      total += len(x)\n",
        "\n",
        "    print(f\"Test loss: {test_loss:2f}\")\n",
        "    print(f\"Test accuracy: {correct/total*100:.2f}%\")\n",
        "\n",
        "  epoch_duration = time.time() - test_start_time\n",
        "  print(f\"Test time is: {epoch_duration:.2f} sec\")"
      ],
      "metadata": {
        "id": "BQUGuZj5kmTU"
      },
      "execution_count": null,
      "outputs": []
    },
    {
      "cell_type": "code",
      "source": [
        "if __name__ == \"__main__\":\n",
        "    main()"
      ],
      "metadata": {
        "colab": {
          "base_uri": "https://localhost:8080/"
        },
        "id": "s1wA3eJAkxMA",
        "outputId": "c719789b-3bee-434f-b210-23920033a37f"
      },
      "execution_count": null,
      "outputs": [
        {
          "output_type": "stream",
          "name": "stdout",
          "text": [
            "Using device:  cpu \n"
          ]
        },
        {
          "output_type": "stream",
          "name": "stderr",
          "text": [
            " 10%|█         | 1/10 [01:56<17:27, 116.34s/it]"
          ]
        },
        {
          "output_type": "stream",
          "name": "stdout",
          "text": [
            "Epoch 1/10 | loss: 1.34\n"
          ]
        },
        {
          "output_type": "stream",
          "name": "stderr",
          "text": [
            "\r 20%|██        | 2/10 [03:49<15:17, 114.72s/it]"
          ]
        },
        {
          "output_type": "stream",
          "name": "stdout",
          "text": [
            "Epoch 2/10 | loss: 0.81\n"
          ]
        },
        {
          "output_type": "stream",
          "name": "stderr",
          "text": [
            "\r 30%|███       | 3/10 [05:46<13:29, 115.62s/it]"
          ]
        },
        {
          "output_type": "stream",
          "name": "stdout",
          "text": [
            "Epoch 3/10 | loss: 0.65\n"
          ]
        },
        {
          "output_type": "stream",
          "name": "stderr",
          "text": [
            "\r 40%|████      | 4/10 [07:39<11:26, 114.37s/it]"
          ]
        },
        {
          "output_type": "stream",
          "name": "stdout",
          "text": [
            "Epoch 4/10 | loss: 0.54\n"
          ]
        },
        {
          "output_type": "stream",
          "name": "stderr",
          "text": [
            "\r 50%|█████     | 5/10 [09:36<09:37, 115.55s/it]"
          ]
        },
        {
          "output_type": "stream",
          "name": "stdout",
          "text": [
            "Epoch 5/10 | loss: 0.50\n"
          ]
        },
        {
          "output_type": "stream",
          "name": "stderr",
          "text": [
            "\r 60%|██████    | 6/10 [11:29<07:38, 114.57s/it]"
          ]
        },
        {
          "output_type": "stream",
          "name": "stdout",
          "text": [
            "Epoch 6/10 | loss: 0.46\n"
          ]
        },
        {
          "output_type": "stream",
          "name": "stderr",
          "text": [
            "\r 70%|███████   | 7/10 [13:25<05:44, 114.92s/it]"
          ]
        },
        {
          "output_type": "stream",
          "name": "stdout",
          "text": [
            "Epoch 7/10 | loss: 0.44\n"
          ]
        },
        {
          "output_type": "stream",
          "name": "stderr",
          "text": [
            "\r 80%|████████  | 8/10 [15:20<03:49, 114.98s/it]"
          ]
        },
        {
          "output_type": "stream",
          "name": "stdout",
          "text": [
            "Epoch 8/10 | loss: 0.42\n"
          ]
        },
        {
          "output_type": "stream",
          "name": "stderr",
          "text": [
            "\r 90%|█████████ | 9/10 [17:23<01:57, 117.58s/it]"
          ]
        },
        {
          "output_type": "stream",
          "name": "stdout",
          "text": [
            "Epoch 9/10 | loss: 0.42\n"
          ]
        },
        {
          "output_type": "stream",
          "name": "stderr",
          "text": [
            "100%|██████████| 10/10 [19:20<00:00, 116.03s/it]\n"
          ]
        },
        {
          "output_type": "stream",
          "name": "stdout",
          "text": [
            "Epoch 10/10 | loss: 0.42\n",
            "Training time is: 1160.32 sec\n"
          ]
        },
        {
          "output_type": "stream",
          "name": "stderr",
          "text": [
            "Testing: 100%|██████████| 313/313 [00:11<00:00, 28.31it/s]"
          ]
        },
        {
          "output_type": "stream",
          "name": "stdout",
          "text": [
            "Test loss: 0.384611\n",
            "Test accuracy: 87.77%\n",
            "Test time is: 11.06 sec\n"
          ]
        },
        {
          "output_type": "stream",
          "name": "stderr",
          "text": [
            "\n"
          ]
        }
      ]
    },
    {
      "cell_type": "code",
      "source": [],
      "metadata": {
        "id": "ZHGj7o1tk0Tm"
      },
      "execution_count": null,
      "outputs": []
    }
  ]
}